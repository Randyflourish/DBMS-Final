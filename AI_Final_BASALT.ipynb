{
  "cells": [
    {
      "cell_type": "markdown",
      "metadata": {
        "id": "view-in-github",
        "colab_type": "text"
      },
      "source": [
        "<a href=\"https://colab.research.google.com/github/Randyflourish/DBMS-Final/blob/main/AI_Final_BASALT.ipynb\" target=\"_parent\"><img src=\"https://colab.research.google.com/assets/colab-badge.svg\" alt=\"Open In Colab\"/></a>"
      ]
    },
    {
      "cell_type": "markdown",
      "metadata": {
        "id": "Pxwl_yG1qhR7"
      },
      "source": [
        "<div style=\"text-align: center\">\n",
        "  <img src=\"https://github.com/KarolisRam/MineRL2021-Intro-baselines/blob/main/img/colab_banner.png?raw=true\">\n",
        "</div>"
      ]
    },
    {
      "cell_type": "markdown",
      "metadata": {
        "id": "-_BGlQwngccr"
      },
      "source": [
        "# Introduction\n",
        "This notebook is the installation part for the [MineRL 2022](https://minerl.io/) competition, building on the original introductory notebooks created for the MineRL 2021 competition.\n",
        "\n",
        "## Note: About this file\n",
        "\n",
        "This file is updated by NYCU 2024 Spring Intro2AI Team 11: まふまふ.\n",
        "The original file is come from [here](https://colab.research.google.com/drive/1rJ3lGy-bG7kJRe_wYBWg7fjSaD9oOMDw?usp=sharing)\n",
        "\n",
        "## There's a video to explain...\n",
        "Please visit [this intro YouTube video](https://youtu.be/8yIrWcyWGek) to see some background information.  Hopefully, this will lead to a number of additional videos that explore what can be done in this environment...\n",
        "\n",
        "And if you see me=@mdda online, then please say \"Hi!\"\n",
        "\n",
        "## Software 2.0\n",
        "The approach we are going to use, where we took some human written code and replaced it with an AI component is quite similar to how Tesla approaches self driving cars. See this talk by Andrej Karpathy, Director of AI at Tesla:  \n",
        "[Building the Software 2.0 Stack](https://databricks.com/session/keynote-from-tesla)\n"
      ]
    },
    {
      "cell_type": "markdown",
      "metadata": {
        "id": "ysSTXmT3YUeF"
      },
      "source": [
        "# Setup"
      ]
    },
    {
      "cell_type": "code",
      "execution_count": 1,
      "metadata": {
        "id": "_HTScYNljgXv"
      },
      "outputs": [],
      "source": [
        "%%capture\n",
        "!sudo add-apt-repository -y ppa:openjdk-r/ppa\n",
        "!sudo apt-get purge openjdk-*\n",
        "!sudo apt-get install openjdk-8-jdk\n",
        "!sudo apt-get install xvfb xserver-xephyr vnc4server python-opengl ffmpeg\n",
        "# Takes ~1min to run this\n",
        "# New Add\n",
        "!sudo apt-get install -y xvfb  # Install Xvfb"
      ]
    },
    {
      "cell_type": "code",
      "execution_count": null,
      "metadata": {
        "id": "xh6gb3UWjT3p"
      },
      "outputs": [],
      "source": [
        "# This takes ~22mins - which would hit us every time we start Colab\n",
        "#   So we'll do it once, and store a '.tar.gz' of the installation into our\n",
        "#   Google Drive, so that we can get it back much quicker the second time!\n",
        "\n",
        "##%%capture\n",
        "##!pip3 install --upgrade minerl # Default is 0.4.4, we want 1.0.0 for VPT\n",
        "##!pip3 uninstall minerl\n",
        "#!pip3 install git+https://github.com/minerllabs/minerl@v1.0.0\n",
        "#\n",
        "#!pip3 install pyvirtualdisplay\n",
        "#!pip3 install -U colabgymrender"
      ]
    },
    {
      "cell_type": "code",
      "source": [
        "import os, sys, time\n",
        "\n",
        "mine_env = 'mine_env'\n",
        "mine_env_full = f'/content/{mine_env}'\n",
        "mine_tar = f'{mine_env}.tar.gz'\n",
        "\n",
        "if mine_env_full not in sys.path:\n",
        "  sys.path.insert(0, mine_env_full)\n",
        "  os.environ['PYTHONPATH'] += f':{mine_env_full}'\n",
        "\n",
        "mine_env, mine_env_full, mine_tar"
      ],
      "metadata": {
        "id": "sV7hXcp1vgj6"
      },
      "execution_count": null,
      "outputs": []
    },
    {
      "cell_type": "code",
      "source": [
        "# We'll connect to our Google Drive here, and see whether we've already saved off a copy\n",
        "#   This will ask permission to 'connect to your drive' : The answer is 'Yes'!\n",
        "MINE_ENV_IS_NEW = True\n",
        "\n",
        "from google.colab import drive  # google.colab contains functions specifically for interacting with Google Colab's environment.\n",
        "drive.mount('/content/drive')    # mounts your Google Drive as a local file system\n",
        "if os.path.isfile(f'/content/drive/MyDrive/pythonLib/{mine_tar}'): # check if \"mine_env.tar.gz\" is in your Google Drive\n",
        "  ! cp /content/drive/MyDrive/pythonLib/$mine_tar ./$mine_tar  # ! means the command is to be executed in the shell rather than as Python code.\n",
        "                                              # This command copies the file from your Google Drive to the current working directory of the Colab notebook.\n",
        "\n",
        "  ! ls -l ./$mine_tar                         # This lists the file details such as permissions, owner, size, and modification date for the copied file in the current directory.\n",
        "                                              # It helps verify that the file has been copied correctly and shows its properties.\n",
        "  # e.g.: -rw------- 1 root root 1510118446 Jun 26 08:48 ./mine_env.tar.gz\n",
        "\n",
        "  # ! tar -tzf ./$mine_tar | grep minerl | head -5    # list some contents of the compressed tar file without extracting it\n",
        "  ! tar -xzf ./$mine_tar    # This extracts the contents of the tar file into the current directory\n",
        "\n",
        "  MINE_ENV_IS_NEW = False\n",
        "  # Takes 1min too (huge saving!)\n",
        "\n",
        "sys.path.append('/content/drive/MyDrive/pythonLib')\n",
        "\n",
        "\"DONE\""
      ],
      "metadata": {
        "id": "uvUh7yQ36RjQ"
      },
      "execution_count": null,
      "outputs": []
    },
    {
      "cell_type": "code",
      "source": [
        "# Check default packages (execute if needed)\n",
        "!pip3 list"
      ],
      "metadata": {
        "id": "BdFxcyLg2DqL"
      },
      "execution_count": null,
      "outputs": []
    },
    {
      "cell_type": "code",
      "source": [
        "# Build the mine_env if necessary\n",
        "try:\n",
        "  from pyvirtualdisplay import Display\n",
        "except :\n",
        "  !pip3 install --target=$mine_env git+https://github.com/minerllabs/minerl@v1.0.2   # 21 mins\n",
        "  # https://stackoverflow.com/questions/55833509/attributeerror-type-object-callable-has-no-attribute-abc-registry\n",
        "  !mv $mine_env/typing.py $mine_env/MEH-typing.py  # Fix for Python3.7 ...\n",
        "\n",
        "  !pip3 install --target=$mine_env pyvirtualdisplay  # 4 secs  #注 Display creates a virtual framebuffer that graphical applications can use to render output as if they were using a real monitor.\n",
        "                                                              #注 This allows you to run applications that require a GUI without having an actual GUI environment installed on the system.\n",
        "  !pip3 install --target=$mine_env --upgrade colabgymrender # 22 secs  #注 colabgymrender provides a workaround by capturing the graphical output of the environment and displaying it within the notebook.\n",
        "\n",
        "  MINE_ENV_IS_NEW = True\n",
        "  # NB: some restart notices in the output ... but there's no need to restart!\n",
        "  #     In any case, please wait for the 'DONE' message to print out\n",
        "f\"DONE, with MINE_ENV_IS_NEW={MINE_ENV_IS_NEW}\""
      ],
      "metadata": {
        "id": "n7ZYcRvnvq6y"
      },
      "execution_count": null,
      "outputs": []
    },
    {
      "cell_type": "code",
      "source": [
        "# check content of mine_env (execute if needed)\n",
        "! du -b mine_env | tail -5  # mine_env = ~ 2,094,031,775 bytes overall (a little bit less)"
      ],
      "metadata": {
        "id": "iNj2G3933yVu"
      },
      "execution_count": null,
      "outputs": []
    },
    {
      "cell_type": "code",
      "source": [
        "# Build new env.tar.gz file in google drive (execute if needed)\n",
        "if MINE_ENV_IS_NEW: #  or True\n",
        "  # ! ls -l /gdrive/MyDrive/mine*\n",
        "  ! rm -f ./$mine_tar   #注 removes the existing tar.gz archive of the environment, if any, from the current directory.\n",
        "  ! tar -czf ./$mine_tar $mine_env  #注 This command creates a new compressed (gzipped) tar archive of the directory specified by the $mine_env variable (the environment directory).\n",
        "  ! ls -l ./$mine_tar\n",
        "  # Without running the env...\n",
        "  # -rw-r--r-- 1 root root 1505020174 Jun 26 07:26 ./mine_env.tar.gz\n",
        "  # Once the minerl env has been reset once (i.e. java has built...)\n",
        "  # -rw------- 1 root root 1511976116 Jun 26 08:43 ./mine_env.tar.gz\n",
        "  ! tar -tzf ./$mine_tar | head\n",
        "  ! cp ./$mine_tar /content/drive/MyDrive/pythonLib/  #注 This copies the newly created archive to a Google Drive directory.\n",
        "  ! ls -l /content/drive/MyDrive/pythonLib/$mine_tar\n",
        "\"DONE\""
      ],
      "metadata": {
        "colab": {
          "base_uri": "https://localhost:8080/",
          "height": 36
        },
        "id": "KOxO92nU4C8Q",
        "outputId": "3b1b306a-50fc-47e8-8ba7-040ba179bee0"
      },
      "execution_count": 8,
      "outputs": [
        {
          "output_type": "execute_result",
          "data": {
            "text/plain": [
              "'DONE'"
            ],
            "application/vnd.google.colaboratory.intrinsic+json": {
              "type": "string"
            }
          },
          "metadata": {},
          "execution_count": 8
        }
      ]
    },
    {
      "cell_type": "markdown",
      "metadata": {
        "id": "ADmrUKxvYXGa"
      },
      "source": [
        "# Import Libraries"
      ]
    },
    {
      "cell_type": "code",
      "execution_count": null,
      "metadata": {
        "id": "g8_vZpMFpiD9"
      },
      "outputs": [],
      "source": [
        "import os   # For interacting with the operating system.\n",
        "\n",
        "import numpy as np  # For numerical operations.\n",
        "\n",
        "import gym    # To create and manage environments based on the OpenAI Gym toolkit.\n",
        "import minerl\n",
        "\n",
        "from tqdm.notebook import tqdm  # For displaying progress bars in Jupyter notebooks.\n",
        "from colabgymrender.recorder import Recorder # To facilitate rendering of Gym environments in Google Colab.\n",
        "from pyvirtualdisplay import Display # To create a virtual display to render environments in a headless server or environment like Google Colab.\n",
        "\n",
        "import logging\n",
        "logging.disable(logging.ERROR) # reduce clutter, remove if something doesn't work to see the error logs.\n",
        "\n",
        "np.__version__  # '1.21.6' => that this is reading from our ~/mine_env directory\n",
        "# Numpy version may be different from the content above\n",
        "# About warning: since warning is in a local package, so if error occurs, please comment the specific line"
      ]
    },
    {
      "cell_type": "code",
      "execution_count": 9,
      "metadata": {
        "id": "b1582peiyg2D"
      },
      "outputs": [],
      "source": [
        "import cv2\n",
        "#from google.colab.patches import cv2_imshow\n",
        "#from PIL import Image\n",
        "import matplotlib.pylab as plt"
      ]
    },
    {
      "cell_type": "code",
      "source": [
        "disp = Display(visible=0, backend=\"xvfb\")\n",
        "disp.start();"
      ],
      "metadata": {
        "id": "UmalpPQeHy0X"
      },
      "execution_count": 13,
      "outputs": []
    },
    {
      "cell_type": "code",
      "execution_count": null,
      "metadata": {
        "id": "NXMu7Ek5x6nl"
      },
      "outputs": [],
      "source": [
        "env = gym.make(\"MineRLBasaltFindCave-v0\")"
      ]
    },
    {
      "cell_type": "code",
      "source": [
        "env.action_space.sample().keys()"
      ],
      "metadata": {
        "id": "h7BT_7Ss9HBl"
      },
      "execution_count": null,
      "outputs": []
    },
    {
      "cell_type": "code",
      "source": [
        "# Have a look at a few actions we might do:\n",
        "for _ in range(10):\n",
        "  print( env.action_space.sample() )"
      ],
      "metadata": {
        "id": "b6HkWKSIJgL1"
      },
      "execution_count": null,
      "outputs": []
    },
    {
      "cell_type": "code",
      "source": [
        "t0=time.time()\n",
        "obs = env.reset()  # First obs is thrown away...\n",
        "print(f\"{(time.time()-t0):.2f}sec for env.reset\")\n",
        "# 275.65sec = 4mins for first time, 80.73sec second time (due to compilation of java files?)"
      ],
      "metadata": {
        "id": "qs9o7KW-tUcq"
      },
      "execution_count": null,
      "outputs": []
    },
    {
      "cell_type": "code",
      "source": [
        "# Now that Steve has been spawned, do some actions...\n",
        "t0=time.time()\n",
        "\n",
        "done, iter = False, 0\n",
        "while not done:\n",
        "    ac = env.action_space.noop()\n",
        "    # Spin around to see what is around us\n",
        "    ac[\"camera\"] = [0, +30]  # (pitch, yaw) deltas in degrees : +30 => turn to right\n",
        "\n",
        "    t1=time.time()\n",
        "    obs, reward, done, info = env.step(ac)\n",
        "    #print(obs, reward, info)  # NB: Yikes : obs is only the image!\n",
        "    #  obs = Dict(pov:Box(low=0, high=255, shape=(360, 640, 3)))\n",
        "    #print(pov.shape) # (360, 640, 3)  Image spec agrees with docs!\n",
        "    print(f\"{(time.time()-t1):.2f}sec for env.step\")  # Approx 0.25sec per step\n",
        "\n",
        "    pov = obs[\"pov\"]\n",
        "\n",
        "    #env.render()  # This does an internal cv2.imshow that colab rejects\n",
        "    #cv2_imshow(pov[:, :, ::-1])\n",
        "    #cv2.waitKey(1)\n",
        "\n",
        "    plt.imshow(pov)\n",
        "    plt.show()\n",
        "    iter +=1\n",
        "    if iter>22: done=True\n",
        "\n",
        "f\"{(time.time()-t0):.2f}sec for whole spin\""
      ],
      "metadata": {
        "id": "n3FGwWZ489mT"
      },
      "execution_count": null,
      "outputs": []
    },
    {
      "cell_type": "code",
      "source": [
        "# Set up a simple testing function\n",
        "def action_step(action):\n",
        "  ac = env.action_space.noop()\n",
        "  ac.update(action)\n",
        "  obs, reward, done, info = env.step(ac)\n",
        "  plt.imshow(obs[\"pov\"])\n",
        "  plt.show()"
      ],
      "metadata": {
        "id": "ytLkHyBow1Ct"
      },
      "execution_count": null,
      "outputs": []
    },
    {
      "cell_type": "code",
      "source": [
        "action_step({})\n",
        "action_step(dict(inventory=[1]))\n",
        "action_step(dict(camera=[0, +30]))\n",
        "action_step(dict(camera=[-10, -30]))\n",
        "action_step(dict(camera=[+10, 0]))\n",
        "action_step(dict(inventory=[1]))  # Put inventory away? = Yes, if it is showing"
      ],
      "metadata": {
        "id": "p9hUkcZhuObe"
      },
      "execution_count": null,
      "outputs": []
    },
    {
      "cell_type": "code",
      "source": [
        "#action_step({'inventory':[1]})  # Put inventory away? = NOT jump, sneak, use, hotbar.X, back\n",
        "action_step({})  # NOOP"
      ],
      "metadata": {
        "id": "taCclVGyuSuZ"
      },
      "execution_count": null,
      "outputs": []
    },
    {
      "cell_type": "code",
      "source": [
        "# Set up a simple calibration function\n",
        "import cv2\n",
        "from google.colab.patches import cv2_imshow\n",
        "\n",
        "def action_step_calibrate(x_off,y_off):\n",
        "  ac = env.action_space.noop()\n",
        "  ac.update(dict(camera=[y_off, x_off]))\n",
        "  obs, reward, done, info = env.step(ac)\n",
        "  im = obs[\"pov\"][100:250, 200:400,:]\n",
        "  cv2_imshow(cv2.cvtColor(im, cv2.COLOR_RGB2BGR))\n",
        "  ac = env.action_space.noop()\n",
        "  ac.update(dict(camera=[-y_off, -x_off]))  # Move back\n",
        "  obs, reward, done, info = env.step(ac)"
      ],
      "metadata": {
        "id": "ssp9BtYZ3u4g"
      },
      "execution_count": null,
      "outputs": []
    },
    {
      "cell_type": "code",
      "source": [
        "action_step({})\n",
        "action_step(dict(inventory=[1]))\n",
        "\n",
        "action_step_calibrate(0, 0)\n",
        "for x_off in [+0.62, +1.61, +3.22, +5.81, +10.0]:\n",
        "  print(f\"x_off={x_off}\")\n",
        "  action_step_calibrate(x_off,0)\n",
        "  action_step_calibrate(-x_off,0)\n",
        "for y_off in [+0.62, +1.61, +3.22, +5.81, +10.0]:\n",
        "  print(f\"y_off={y_off}\")\n",
        "  action_step_calibrate(0, y_off)\n",
        "  action_step_calibrate(0, -y_off)\n",
        "\n",
        "action_step(dict(inventory=[1]))  # Put inventory away? = Yes, if it is showing"
      ],
      "metadata": {
        "id": "ung8m4tp3ueX"
      },
      "execution_count": null,
      "outputs": []
    },
    {
      "cell_type": "code",
      "source": [
        "! nvidia-smi"
      ],
      "metadata": {
        "id": "t6Hu5elxuluu"
      },
      "execution_count": null,
      "outputs": []
    },
    {
      "cell_type": "code",
      "source": [
        "env.close()"
      ],
      "metadata": {
        "id": "pvxBJAcA73fv"
      },
      "execution_count": null,
      "outputs": []
    },
    {
      "cell_type": "code",
      "execution_count": null,
      "metadata": {
        "id": "ERSdDSW61fnw"
      },
      "outputs": [],
      "source": [
        "disp.stop();"
      ]
    },
    {
      "cell_type": "code",
      "source": [
        "# THE END! - We'll be using this set-up in the future!"
      ],
      "metadata": {
        "id": "LO__56dWX3en"
      },
      "execution_count": null,
      "outputs": []
    }
  ],
  "metadata": {
    "colab": {
      "provenance": [],
      "include_colab_link": true
    },
    "gpuClass": "standard",
    "kernelspec": {
      "display_name": "Python 3",
      "name": "python3"
    },
    "language_info": {
      "name": "python"
    }
  },
  "nbformat": 4,
  "nbformat_minor": 0
}